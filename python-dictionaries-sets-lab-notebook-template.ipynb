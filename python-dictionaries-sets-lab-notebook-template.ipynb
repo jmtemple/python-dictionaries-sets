{
 "cells": [
  {
   "cell_type": "markdown",
   "metadata": {},
   "source": [
    "# Elements of Computing I\n",
    "\n",
    "Student Name: **Enter Your Name Here (Double click to edit)**\n",
    "<br>\n",
    "Net ID: **Enter Your NetID Here (Double click to edit)**\n",
    "<br>\n",
    "Title: **Dictionaries and Sets in Python**"
   ]
  },
  {
   "cell_type": "markdown",
   "metadata": {},
   "source": [
    "<strong>Q1: Create a dictionary on a topic of your choosing. Include at least 7 key-value pairs.\n",
    "<ol type=\"a\">\n",
    " <li>Add new elements to your dictionary.</li>\n",
    " <li>Update an element in your dictionary.</li>\n",
    " <li>Print a list of all the keys in your dictionary.</li>\n",
    " <li>Print a list of all the values in your dictionary.</li>\n",
    " </ol></strong>"
   ]
  },
  {
   "cell_type": "markdown",
   "metadata": {},
   "source": [
    "**AnswerQ1**: Your answer here (double click to edit)"
   ]
  },
  {
   "cell_type": "code",
   "execution_count": 3,
   "metadata": {},
   "outputs": [],
   "source": [
    "# your codes here (if needed)"
   ]
  },
  {
   "cell_type": "markdown",
   "metadata": {},
   "source": [
    "<strong>Q2: Create the set `s` with the following values: `[1, 3, 5, 7, 9]`\n",
    "<ol type=\"a\">\n",
    "  <li>Test to see if the value <code>11</code> is a member of the set.</li>\n",
    "  <li>Test to see if the value <code>7</code> is a member of the set.</li>\n",
    "  <li>Add a value to the set.</li>\n",
    "  <li>Remove a value from the set.</li>\n",
    " </ol></strong>"
   ]
  },
  {
   "cell_type": "markdown",
   "metadata": {},
   "source": [
    "**AnswerQ2**: Your answer here (double click to edit)"
   ]
  },
  {
   "cell_type": "code",
   "execution_count": 4,
   "metadata": {},
   "outputs": [],
   "source": [
    "# your codes here (if needed)"
   ]
  },
  {
   "cell_type": "markdown",
   "metadata": {},
   "source": [
    "**Q3: What is the difference between a `list` and a `dict`? When would we prefer one over the other?**"
   ]
  },
  {
   "cell_type": "markdown",
   "metadata": {},
   "source": [
    "**AnswerQ3:** Your answer here (double click to edit)"
   ]
  },
  {
   "cell_type": "code",
   "execution_count": 5,
   "metadata": {},
   "outputs": [],
   "source": [
    "# your codes here (if needed)"
   ]
  }
 ],
 "metadata": {
  "kernelspec": {
   "display_name": "Python 3",
   "language": "python",
   "name": "python3"
  },
  "language_info": {
   "codemirror_mode": {
    "name": "ipython",
    "version": 3
   },
   "file_extension": ".py",
   "mimetype": "text/x-python",
   "name": "python",
   "nbconvert_exporter": "python",
   "pygments_lexer": "ipython3",
   "version": "3.8.5"
  }
 },
 "nbformat": 4,
 "nbformat_minor": 4
}
